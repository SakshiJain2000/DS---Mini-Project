{
  "nbformat": 4,
  "nbformat_minor": 0,
  "metadata": {
    "colab": {
      "name": "DS- Minor Project.ipynb",
      "provenance": [],
      "collapsed_sections": []
    },
    "kernelspec": {
      "name": "python3",
      "display_name": "Python 3"
    }
  },
  "cells": [
    {
      "cell_type": "code",
      "metadata": {
        "colab": {
          "base_uri": "https://localhost:8080/"
        },
        "id": "dyxjcPkQKr3Q",
        "outputId": "3f57fe47-c5be-4caa-a4a0-c9a67ac59743"
      },
      "source": [
        "#PreProcess data\r\n",
        "#Scaling down the image to specific value\r\n",
        "\r\n",
        "from skimage.io import imread\r\n",
        "from skimage.transform import resize\r\n",
        "import os\r\n",
        "import os.path\r\n",
        " \r\n",
        "filepath = r'/content/DS- Minor Project'\r\n",
        "if filepath:\r\n",
        "  fp = Image.open('/content/DS- Minor Project/bike/bike_image.jpg', mode='r')\r\n",
        "  exclusive_fp = True\r\n",
        "\r\n",
        "img = fp.resize((200,400))\r\n",
        "img.save('img.jpg')\r\n",
        "\r\n",
        "print(fp.size)\r\n",
        "print(img.size)\r\n"
      ],
      "execution_count": null,
      "outputs": [
        {
          "output_type": "stream",
          "text": [
            "(660, 440)\n",
            "(200, 400)\n"
          ],
          "name": "stdout"
        }
      ]
    },
    {
      "cell_type": "code",
      "metadata": {
        "id": "CrpsTXjCR-dH",
        "colab": {
          "base_uri": "https://localhost:8080/"
        },
        "outputId": "3dcb426b-25f1-49d5-e6fe-e06a61c91f09"
      },
      "source": [
        "import PIL\r\n",
        "from PIL import Image\r\n",
        "import numpy as np\r\n",
        " \r\n",
        "# coverting image to array\r\n",
        "\r\n",
        "arr_image = PIL.Image.open('/content/DS- Minor Project/bike/bike_image.jpg')\r\n",
        "image_sequence = arr_image.getdata()\r\n",
        "image_array = np.array(image_sequence)\r\n",
        "print(image_array)\r\n",
        "\r\n",
        "#Converting 2-D array to 1-D array - Flattening of an image\r\n",
        "\r\n",
        "result = image_array.flatten()\r\n",
        "print(\"New resulting array: \", result)\r\n",
        "\r\n"
      ],
      "execution_count": null,
      "outputs": [
        {
          "output_type": "stream",
          "text": [
            "[[254 254 254]\n",
            " [254 254 254]\n",
            " [254 254 254]\n",
            " ...\n",
            " [254 254 254]\n",
            " [254 254 254]\n",
            " [254 254 254]]\n",
            "New resulting array:  [254 254 254 ... 254 254 254]\n"
          ],
          "name": "stdout"
        }
      ]
    },
    {
      "cell_type": "code",
      "metadata": {
        "colab": {
          "base_uri": "https://localhost:8080/"
        },
        "id": "nI-JxRQORsBk",
        "outputId": "b7dbe9fa-76ae-451a-ca15-70b588766c9d"
      },
      "source": [
        "#Creating dataframe by iterating through the Images\r\n",
        "\r\n",
        "from scipy import ndimage\r\n",
        "import numpy as np\r\n",
        "import os\r\n",
        "import cv2\r\n",
        "\r\n",
        "def main():\r\n",
        "    path = \"/content/DS- Minor Project/bike/bike_image.jpg\"\r\n",
        "    outpath = \"/content/DS- Minor Project/rotated image\"\r\n",
        "\r\n",
        "    for image_path in os.listdir(path):\r\n",
        "      input_path = os.path.join(path, image_path)\r\n",
        "      image_to_rotate = ndimage.imread(input_path)\r\n",
        "\r\n",
        "      rotated = ndimage.rotate(image_to_rotate, 45)\r\n",
        "      fullpath = os.path.join(outPath, 'rotated_'+image_path)\r\n",
        "      misc.imsave(fullpath, rotated_)\r\n",
        "\r\n",
        "if __name__ == \"__main__\":\r\n",
        "   print(main)"
      ],
      "execution_count": null,
      "outputs": [
        {
          "output_type": "stream",
          "text": [
            "<function main at 0x7f2cb91bbf28>\n"
          ],
          "name": "stdout"
        }
      ]
    },
    {
      "cell_type": "code",
      "metadata": {
        "colab": {
          "base_uri": "https://localhost:8080/"
        },
        "id": "R6Nlzbvu8mQ4",
        "outputId": "5be54747-bf5e-4ae4-e4eb-987645075e22"
      },
      "source": [
        "#Creating dataframe for iteration\n",
        "\n",
        "import numpy as np\n",
        "import pandas as pd\n",
        "\n",
        "if __name__ == '__main__':\n",
        "   data = {'column a': pd.Series(np.random.randint(0,100,3)),\n",
        "           'column b': pd.Series(np.random.randint(0,100,3)),\n",
        "           'column c': pd.Series(np.random.randint(0,100,3))}\n",
        "\n",
        "   df = pd.DataFrame(data)\n",
        "   df.index = ['row 1', 'row 2', 'row 3']\n",
        "   print(df)\n",
        "          \n",
        "\n",
        "\n"
      ],
      "execution_count": null,
      "outputs": [
        {
          "output_type": "stream",
          "text": [
            "       column a  column b  column c\n",
            "row 1         1        77        87\n",
            "row 2         4        29        78\n",
            "row 3         0        94        87\n"
          ],
          "name": "stdout"
        }
      ]
    },
    {
      "cell_type": "code",
      "metadata": {
        "colab": {
          "base_uri": "https://localhost:8080/"
        },
        "id": "G1_2hF83RpuA",
        "outputId": "40f763f5-70f4-4631-b990-9eb7ecc3359e"
      },
      "source": [
        "#Apply any classification algorithm with best parameters using Gridserach CV\r\n",
        "\r\n",
        "import imutils\r\n",
        "import cv2\r\n",
        "import os\r\n",
        "import numpy as np\r\n",
        "!pip install histograms\r\n",
        "from histograms import histograms\r\n",
        "import histograms as hist\r\n",
        "\r\n",
        "def extract_color_histogram(image,bins=(8,8,8)):\r\n",
        "\r\n",
        "#extract a 3D color histogramfrom the HSV color space using the supplies numbr of 'bins' per channel.\r\n",
        " hsv = cv2.cvtcolor(image,cv2.COLOR_BGR2HSV)\r\n",
        " hist = cv2.calcHist([hsv], [0,1,2], None, bins, [0,180,0,256,0,256])\r\n",
        "\r\n",
        "#handle normalizing the histogram if we are using OpenCV 2.4.X\r\n",
        "if imutils.is_cv2():\r\n",
        "     hist = cv2.normalize(hist)\r\n",
        "\r\n",
        "#otherwise, perform \"in place\" normalization in OpenCV 3\r\n",
        "\r\n",
        "else: \r\n",
        "    %s(cv2.normalize(hist,hist))\r\n",
        "\r\n",
        "#return the flattened histogram as the feature vector\r\n",
        "\r\n",
        "return hist.flatten()\r\n",
        "\r\n"
      ],
      "execution_count": null,
      "outputs": [
        {
          "output_type": "stream",
          "text": [
            "Requirement already satisfied: histograms in /usr/local/lib/python3.6/dist-packages (1.0.0)\n",
            "Requirement already satisfied: matplotlib in /usr/local/lib/python3.6/dist-packages (from histograms) (3.2.2)\n",
            "Requirement already satisfied: pandas in /usr/local/lib/python3.6/dist-packages (from histograms) (1.1.5)\n",
            "Requirement already satisfied: humanize in /usr/local/lib/python3.6/dist-packages (from histograms) (0.5.1)\n",
            "Requirement already satisfied: scipy in /usr/local/lib/python3.6/dist-packages (from histograms) (1.4.1)\n",
            "Requirement already satisfied: pillow in /usr/local/lib/python3.6/dist-packages (from histograms) (7.0.0)\n",
            "Requirement already satisfied: tqdm in /usr/local/lib/python3.6/dist-packages (from histograms) (4.41.1)\n",
            "Requirement already satisfied: python-dateutil>=2.1 in /usr/local/lib/python3.6/dist-packages (from matplotlib->histograms) (2.8.1)\n",
            "Requirement already satisfied: numpy>=1.11 in /usr/local/lib/python3.6/dist-packages (from matplotlib->histograms) (1.19.5)\n",
            "Requirement already satisfied: kiwisolver>=1.0.1 in /usr/local/lib/python3.6/dist-packages (from matplotlib->histograms) (1.3.1)\n",
            "Requirement already satisfied: pyparsing!=2.0.4,!=2.1.2,!=2.1.6,>=2.0.1 in /usr/local/lib/python3.6/dist-packages (from matplotlib->histograms) (2.4.7)\n",
            "Requirement already satisfied: cycler>=0.10 in /usr/local/lib/python3.6/dist-packages (from matplotlib->histograms) (0.10.0)\n",
            "Requirement already satisfied: pytz>=2017.2 in /usr/local/lib/python3.6/dist-packages (from pandas->histograms) (2018.9)\n",
            "Requirement already satisfied: six>=1.5 in /usr/local/lib/python3.6/dist-packages (from python-dateutil>=2.1->matplotlib->histograms) (1.15.0)\n"
          ],
          "name": "stdout"
        },
        {
          "output_type": "stream",
          "text": [
            "UsageError: Line magic function `%s` not found.\n"
          ],
          "name": "stderr"
        }
      ]
    },
    {
      "cell_type": "code",
      "metadata": {
        "colab": {
          "base_uri": "https://localhost:8080/"
        },
        "id": "8KpnlUz72M8e",
        "outputId": "ab1a7de1-93e3-40fb-8096-e9bc4d526c37"
      },
      "source": [
        "import numpy as np\r\n",
        "from skimage.io import imread\r\n",
        "from skimage.transform import resize\r\n",
        "import os\r\n",
        "import os.path\r\n",
        "!pip install scikit-learn\r\n",
        "import sklearn\r\n",
        "import sklearn.neighbors\r\n",
        "from sklearn.model_selection import train_test_split\r\n",
        "\r\n",
        "print(\"Describing images...\")\r\n",
        "imagepath = '/content/DS- Minor Project/bike/bike_image.jpg'\r\n",
        "\r\n",
        "rawimages = []\r\n",
        "features = []\r\n",
        "labels = []\r\n",
        "\r\n",
        "for (i,imagepath) in enumerate(imagepath):\r\n",
        "\r\n",
        "  image = cv2.imread(imagepath)\r\n",
        "  label = imagepath.split(os.path.sep)[-1].split(\".\")[0]\r\n",
        "\r\n",
        "def image_to_feature_vector(image,size=(32,32)):\r\n",
        "  return cv2.resize(image,size).flatten()\r\n",
        "\r\n",
        "  pixels = image_to_feature_vector(image)\r\n",
        "  hist = extract_color_histogram(image)\r\n",
        "\r\n",
        "  rawimages.append(pixels)\r\n",
        "  feautures.append(hist)\r\n",
        "  labels.append(label)\r\n",
        "\r\n",
        "  if i > 0 and i %1000 == 0:\r\n",
        "    print(\" processing {}/{}\".format (i, len(imagepath)))\r\n",
        "\r\n",
        "rawimages = np.array(rawimages)\r\n",
        "features = np.array(features)\r\n",
        "labels = np.array(labels)\r\n",
        "print(\"pixels matrix: {:.2f} MB\".format(\r\n",
        "     rawimages.nbytes / (1024 * 1000.0)))\r\n",
        "\r\n",
        "print(\"features matrix: {:.2f} MB\".format(\r\n",
        "     features.nbytes / (1024 * 1000.0)))\r\n",
        "\r\n",
        "\r\n",
        "\r\n",
        "\r\n",
        "\r\n"
      ],
      "execution_count": null,
      "outputs": [
        {
          "output_type": "stream",
          "text": [
            "Requirement already satisfied: scikit-learn in /usr/local/lib/python3.6/dist-packages (0.22.2.post1)\n",
            "Requirement already satisfied: scipy>=0.17.0 in /usr/local/lib/python3.6/dist-packages (from scikit-learn) (1.4.1)\n",
            "Requirement already satisfied: numpy>=1.11.0 in /usr/local/lib/python3.6/dist-packages (from scikit-learn) (1.19.5)\n",
            "Requirement already satisfied: joblib>=0.11 in /usr/local/lib/python3.6/dist-packages (from scikit-learn) (1.0.0)\n",
            "Describing images...\n",
            "pixels matrix: 0.00 MB\n",
            "features matrix: 0.00 MB\n"
          ],
          "name": "stdout"
        }
      ]
    },
    {
      "cell_type": "code",
      "metadata": {
        "colab": {
          "base_uri": "https://localhost:8080/"
        },
        "id": "vxjfQDkRMfdo",
        "outputId": "a0e9b812-4ce9-4773-96e3-eb3479cf1fb5"
      },
      "source": [
        "#confusion matrix in sklearn\n",
        "\n",
        "from sklearn.metrics import confusion_matrix\n",
        "from sklearn.metrics import classification_report\n",
        "\n",
        "#actual values\n",
        "\n",
        "actual = [1,0,0,1,0,0,1,0,0,1]\n",
        "\n",
        "#predicted values\n",
        "predicted = [1,0,0,1,0,0,0,1,0,0]\n",
        "\n",
        "#confusin matrix\n",
        "matrix = confusion_matrix(actual, predicted, labels=[1,0])\n",
        "print('confusion matrix : \\n', matrix)\n",
        "\n",
        "#outcome values order in sklearn\n",
        "tp, fn, fp, tn = confusion_matrix(actual, predicted, labels=[1,0]).reshape(-1)\n",
        "print('outcome values : \\n', tp, fn, fp, tn)\n",
        "\n",
        "#classification report for precision, recall f1-score and accuracy\n",
        "matrix = classification_report(actual,predicted,labels=[1,0])\n",
        "print('classification report ;\\n', matrix)"
      ],
      "execution_count": null,
      "outputs": [
        {
          "output_type": "stream",
          "text": [
            "confusion matrix : \n",
            " [[2 2]\n",
            " [1 5]]\n",
            "outcome values : \n",
            " 2 2 1 5\n",
            "classification report ;\n",
            "               precision    recall  f1-score   support\n",
            "\n",
            "           1       0.67      0.50      0.57         4\n",
            "           0       0.71      0.83      0.77         6\n",
            "\n",
            "    accuracy                           0.70        10\n",
            "   macro avg       0.69      0.67      0.67        10\n",
            "weighted avg       0.70      0.70      0.69        10\n",
            "\n"
          ],
          "name": "stdout"
        }
      ]
    }
  ]
}